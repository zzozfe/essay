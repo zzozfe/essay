{
  "nbformat": 4,
  "nbformat_minor": 0,
  "metadata": {
    "colab": {
      "name": "Untitled0.ipynb",
      "provenance": [],
      "machine_shape": "hm",
      "authorship_tag": "ABX9TyPi9SRkiyBmhH/qwtNdGrfp",
      "include_colab_link": true
    },
    "kernelspec": {
      "name": "python3",
      "display_name": "Python 3"
    },
    "accelerator": "GPU",
    "widgets": {
      "application/vnd.jupyter.widget-state+json": {
        "c3a525c15d124a37b36698243f1962cc": {
          "model_module": "@jupyter-widgets/controls",
          "model_name": "HBoxModel",
          "state": {
            "_view_name": "HBoxView",
            "_dom_classes": [],
            "_model_name": "HBoxModel",
            "_view_module": "@jupyter-widgets/controls",
            "_model_module_version": "1.5.0",
            "_view_count": null,
            "_view_module_version": "1.5.0",
            "box_style": "",
            "layout": "IPY_MODEL_f388bcb5296a48b2aae18be695206daa",
            "_model_module": "@jupyter-widgets/controls",
            "children": [
              "IPY_MODEL_3651efbbbef0443aa86996554c3d8c79",
              "IPY_MODEL_71e2db6dd0f3431ba60cdfd81432c727"
            ]
          }
        },
        "f388bcb5296a48b2aae18be695206daa": {
          "model_module": "@jupyter-widgets/base",
          "model_name": "LayoutModel",
          "state": {
            "_view_name": "LayoutView",
            "grid_template_rows": null,
            "right": null,
            "justify_content": null,
            "_view_module": "@jupyter-widgets/base",
            "overflow": null,
            "_model_module_version": "1.2.0",
            "_view_count": null,
            "flex_flow": null,
            "width": null,
            "min_width": null,
            "border": null,
            "align_items": null,
            "bottom": null,
            "_model_module": "@jupyter-widgets/base",
            "top": null,
            "grid_column": null,
            "overflow_y": null,
            "overflow_x": null,
            "grid_auto_flow": null,
            "grid_area": null,
            "grid_template_columns": null,
            "flex": null,
            "_model_name": "LayoutModel",
            "justify_items": null,
            "grid_row": null,
            "max_height": null,
            "align_content": null,
            "visibility": null,
            "align_self": null,
            "height": null,
            "min_height": null,
            "padding": null,
            "grid_auto_rows": null,
            "grid_gap": null,
            "max_width": null,
            "order": null,
            "_view_module_version": "1.2.0",
            "grid_template_areas": null,
            "object_position": null,
            "object_fit": null,
            "grid_auto_columns": null,
            "margin": null,
            "display": null,
            "left": null
          }
        },
        "3651efbbbef0443aa86996554c3d8c79": {
          "model_module": "@jupyter-widgets/controls",
          "model_name": "FloatProgressModel",
          "state": {
            "_view_name": "ProgressView",
            "style": "IPY_MODEL_366f8012b5954320a548676545758a7c",
            "_dom_classes": [],
            "description": "Downloading: 100%",
            "_model_name": "FloatProgressModel",
            "bar_style": "success",
            "max": 433,
            "_view_module": "@jupyter-widgets/controls",
            "_model_module_version": "1.5.0",
            "value": 433,
            "_view_count": null,
            "_view_module_version": "1.5.0",
            "orientation": "horizontal",
            "min": 0,
            "description_tooltip": null,
            "_model_module": "@jupyter-widgets/controls",
            "layout": "IPY_MODEL_b401c61ec086466fb5fcffbeb05b4976"
          }
        },
        "71e2db6dd0f3431ba60cdfd81432c727": {
          "model_module": "@jupyter-widgets/controls",
          "model_name": "HTMLModel",
          "state": {
            "_view_name": "HTMLView",
            "style": "IPY_MODEL_c856d225d58c497589424a0602940605",
            "_dom_classes": [],
            "description": "",
            "_model_name": "HTMLModel",
            "placeholder": "​",
            "_view_module": "@jupyter-widgets/controls",
            "_model_module_version": "1.5.0",
            "value": " 433/433 [00:00&lt;00:00, 1.19kB/s]",
            "_view_count": null,
            "_view_module_version": "1.5.0",
            "description_tooltip": null,
            "_model_module": "@jupyter-widgets/controls",
            "layout": "IPY_MODEL_f5ee461eb64d4044b6245531a6147df3"
          }
        },
        "366f8012b5954320a548676545758a7c": {
          "model_module": "@jupyter-widgets/controls",
          "model_name": "ProgressStyleModel",
          "state": {
            "_view_name": "StyleView",
            "_model_name": "ProgressStyleModel",
            "description_width": "initial",
            "_view_module": "@jupyter-widgets/base",
            "_model_module_version": "1.5.0",
            "_view_count": null,
            "_view_module_version": "1.2.0",
            "bar_color": null,
            "_model_module": "@jupyter-widgets/controls"
          }
        },
        "b401c61ec086466fb5fcffbeb05b4976": {
          "model_module": "@jupyter-widgets/base",
          "model_name": "LayoutModel",
          "state": {
            "_view_name": "LayoutView",
            "grid_template_rows": null,
            "right": null,
            "justify_content": null,
            "_view_module": "@jupyter-widgets/base",
            "overflow": null,
            "_model_module_version": "1.2.0",
            "_view_count": null,
            "flex_flow": null,
            "width": null,
            "min_width": null,
            "border": null,
            "align_items": null,
            "bottom": null,
            "_model_module": "@jupyter-widgets/base",
            "top": null,
            "grid_column": null,
            "overflow_y": null,
            "overflow_x": null,
            "grid_auto_flow": null,
            "grid_area": null,
            "grid_template_columns": null,
            "flex": null,
            "_model_name": "LayoutModel",
            "justify_items": null,
            "grid_row": null,
            "max_height": null,
            "align_content": null,
            "visibility": null,
            "align_self": null,
            "height": null,
            "min_height": null,
            "padding": null,
            "grid_auto_rows": null,
            "grid_gap": null,
            "max_width": null,
            "order": null,
            "_view_module_version": "1.2.0",
            "grid_template_areas": null,
            "object_position": null,
            "object_fit": null,
            "grid_auto_columns": null,
            "margin": null,
            "display": null,
            "left": null
          }
        },
        "c856d225d58c497589424a0602940605": {
          "model_module": "@jupyter-widgets/controls",
          "model_name": "DescriptionStyleModel",
          "state": {
            "_view_name": "StyleView",
            "_model_name": "DescriptionStyleModel",
            "description_width": "",
            "_view_module": "@jupyter-widgets/base",
            "_model_module_version": "1.5.0",
            "_view_count": null,
            "_view_module_version": "1.2.0",
            "_model_module": "@jupyter-widgets/controls"
          }
        },
        "f5ee461eb64d4044b6245531a6147df3": {
          "model_module": "@jupyter-widgets/base",
          "model_name": "LayoutModel",
          "state": {
            "_view_name": "LayoutView",
            "grid_template_rows": null,
            "right": null,
            "justify_content": null,
            "_view_module": "@jupyter-widgets/base",
            "overflow": null,
            "_model_module_version": "1.2.0",
            "_view_count": null,
            "flex_flow": null,
            "width": null,
            "min_width": null,
            "border": null,
            "align_items": null,
            "bottom": null,
            "_model_module": "@jupyter-widgets/base",
            "top": null,
            "grid_column": null,
            "overflow_y": null,
            "overflow_x": null,
            "grid_auto_flow": null,
            "grid_area": null,
            "grid_template_columns": null,
            "flex": null,
            "_model_name": "LayoutModel",
            "justify_items": null,
            "grid_row": null,
            "max_height": null,
            "align_content": null,
            "visibility": null,
            "align_self": null,
            "height": null,
            "min_height": null,
            "padding": null,
            "grid_auto_rows": null,
            "grid_gap": null,
            "max_width": null,
            "order": null,
            "_view_module_version": "1.2.0",
            "grid_template_areas": null,
            "object_position": null,
            "object_fit": null,
            "grid_auto_columns": null,
            "margin": null,
            "display": null,
            "left": null
          }
        },
        "0260fe9cabd74d2da126c4b0c596abeb": {
          "model_module": "@jupyter-widgets/controls",
          "model_name": "HBoxModel",
          "state": {
            "_view_name": "HBoxView",
            "_dom_classes": [],
            "_model_name": "HBoxModel",
            "_view_module": "@jupyter-widgets/controls",
            "_model_module_version": "1.5.0",
            "_view_count": null,
            "_view_module_version": "1.5.0",
            "box_style": "",
            "layout": "IPY_MODEL_763bc72ac3d147c7b153a404bfa43043",
            "_model_module": "@jupyter-widgets/controls",
            "children": [
              "IPY_MODEL_083371fa5a9c48508142787afa9d50d8",
              "IPY_MODEL_40035ec64cd146a19dbb24b114c7ada0"
            ]
          }
        },
        "763bc72ac3d147c7b153a404bfa43043": {
          "model_module": "@jupyter-widgets/base",
          "model_name": "LayoutModel",
          "state": {
            "_view_name": "LayoutView",
            "grid_template_rows": null,
            "right": null,
            "justify_content": null,
            "_view_module": "@jupyter-widgets/base",
            "overflow": null,
            "_model_module_version": "1.2.0",
            "_view_count": null,
            "flex_flow": null,
            "width": null,
            "min_width": null,
            "border": null,
            "align_items": null,
            "bottom": null,
            "_model_module": "@jupyter-widgets/base",
            "top": null,
            "grid_column": null,
            "overflow_y": null,
            "overflow_x": null,
            "grid_auto_flow": null,
            "grid_area": null,
            "grid_template_columns": null,
            "flex": null,
            "_model_name": "LayoutModel",
            "justify_items": null,
            "grid_row": null,
            "max_height": null,
            "align_content": null,
            "visibility": null,
            "align_self": null,
            "height": null,
            "min_height": null,
            "padding": null,
            "grid_auto_rows": null,
            "grid_gap": null,
            "max_width": null,
            "order": null,
            "_view_module_version": "1.2.0",
            "grid_template_areas": null,
            "object_position": null,
            "object_fit": null,
            "grid_auto_columns": null,
            "margin": null,
            "display": null,
            "left": null
          }
        },
        "083371fa5a9c48508142787afa9d50d8": {
          "model_module": "@jupyter-widgets/controls",
          "model_name": "FloatProgressModel",
          "state": {
            "_view_name": "ProgressView",
            "style": "IPY_MODEL_c9b71c416d954d7ea300512174db1616",
            "_dom_classes": [],
            "description": "Downloading: 100%",
            "_model_name": "FloatProgressModel",
            "bar_style": "success",
            "max": 435779157,
            "_view_module": "@jupyter-widgets/controls",
            "_model_module_version": "1.5.0",
            "value": 435779157,
            "_view_count": null,
            "_view_module_version": "1.5.0",
            "orientation": "horizontal",
            "min": 0,
            "description_tooltip": null,
            "_model_module": "@jupyter-widgets/controls",
            "layout": "IPY_MODEL_9a31f30fe4544a9c9d49deed6ff60f48"
          }
        },
        "40035ec64cd146a19dbb24b114c7ada0": {
          "model_module": "@jupyter-widgets/controls",
          "model_name": "HTMLModel",
          "state": {
            "_view_name": "HTMLView",
            "style": "IPY_MODEL_c0a930f34f95491ca7270f41525952a2",
            "_dom_classes": [],
            "description": "",
            "_model_name": "HTMLModel",
            "placeholder": "​",
            "_view_module": "@jupyter-widgets/controls",
            "_model_module_version": "1.5.0",
            "value": " 436M/436M [00:19&lt;00:00, 22.1MB/s]",
            "_view_count": null,
            "_view_module_version": "1.5.0",
            "description_tooltip": null,
            "_model_module": "@jupyter-widgets/controls",
            "layout": "IPY_MODEL_e3d264b671c345198c6e49bda933e7f9"
          }
        },
        "c9b71c416d954d7ea300512174db1616": {
          "model_module": "@jupyter-widgets/controls",
          "model_name": "ProgressStyleModel",
          "state": {
            "_view_name": "StyleView",
            "_model_name": "ProgressStyleModel",
            "description_width": "initial",
            "_view_module": "@jupyter-widgets/base",
            "_model_module_version": "1.5.0",
            "_view_count": null,
            "_view_module_version": "1.2.0",
            "bar_color": null,
            "_model_module": "@jupyter-widgets/controls"
          }
        },
        "9a31f30fe4544a9c9d49deed6ff60f48": {
          "model_module": "@jupyter-widgets/base",
          "model_name": "LayoutModel",
          "state": {
            "_view_name": "LayoutView",
            "grid_template_rows": null,
            "right": null,
            "justify_content": null,
            "_view_module": "@jupyter-widgets/base",
            "overflow": null,
            "_model_module_version": "1.2.0",
            "_view_count": null,
            "flex_flow": null,
            "width": null,
            "min_width": null,
            "border": null,
            "align_items": null,
            "bottom": null,
            "_model_module": "@jupyter-widgets/base",
            "top": null,
            "grid_column": null,
            "overflow_y": null,
            "overflow_x": null,
            "grid_auto_flow": null,
            "grid_area": null,
            "grid_template_columns": null,
            "flex": null,
            "_model_name": "LayoutModel",
            "justify_items": null,
            "grid_row": null,
            "max_height": null,
            "align_content": null,
            "visibility": null,
            "align_self": null,
            "height": null,
            "min_height": null,
            "padding": null,
            "grid_auto_rows": null,
            "grid_gap": null,
            "max_width": null,
            "order": null,
            "_view_module_version": "1.2.0",
            "grid_template_areas": null,
            "object_position": null,
            "object_fit": null,
            "grid_auto_columns": null,
            "margin": null,
            "display": null,
            "left": null
          }
        },
        "c0a930f34f95491ca7270f41525952a2": {
          "model_module": "@jupyter-widgets/controls",
          "model_name": "DescriptionStyleModel",
          "state": {
            "_view_name": "StyleView",
            "_model_name": "DescriptionStyleModel",
            "description_width": "",
            "_view_module": "@jupyter-widgets/base",
            "_model_module_version": "1.5.0",
            "_view_count": null,
            "_view_module_version": "1.2.0",
            "_model_module": "@jupyter-widgets/controls"
          }
        },
        "e3d264b671c345198c6e49bda933e7f9": {
          "model_module": "@jupyter-widgets/base",
          "model_name": "LayoutModel",
          "state": {
            "_view_name": "LayoutView",
            "grid_template_rows": null,
            "right": null,
            "justify_content": null,
            "_view_module": "@jupyter-widgets/base",
            "overflow": null,
            "_model_module_version": "1.2.0",
            "_view_count": null,
            "flex_flow": null,
            "width": null,
            "min_width": null,
            "border": null,
            "align_items": null,
            "bottom": null,
            "_model_module": "@jupyter-widgets/base",
            "top": null,
            "grid_column": null,
            "overflow_y": null,
            "overflow_x": null,
            "grid_auto_flow": null,
            "grid_area": null,
            "grid_template_columns": null,
            "flex": null,
            "_model_name": "LayoutModel",
            "justify_items": null,
            "grid_row": null,
            "max_height": null,
            "align_content": null,
            "visibility": null,
            "align_self": null,
            "height": null,
            "min_height": null,
            "padding": null,
            "grid_auto_rows": null,
            "grid_gap": null,
            "max_width": null,
            "order": null,
            "_view_module_version": "1.2.0",
            "grid_template_areas": null,
            "object_position": null,
            "object_fit": null,
            "grid_auto_columns": null,
            "margin": null,
            "display": null,
            "left": null
          }
        }
      }
    }
  },
  "cells": [
    {
      "cell_type": "markdown",
      "metadata": {
        "id": "view-in-github",
        "colab_type": "text"
      },
      "source": [
        "<a href=\"https://colab.research.google.com/github/zzozfe/essay/blob/master/BERT_sentiment_analysis_for_FOMC.ipynb\" target=\"_parent\"><img src=\"https://colab.research.google.com/assets/colab-badge.svg\" alt=\"Open In Colab\"/></a>"
      ]
    },
    {
      "cell_type": "code",
      "metadata": {
        "id": "TnY69ttYcrrn",
        "colab_type": "code",
        "colab": {}
      },
      "source": [
        "!pip install rarfile\n",
        "!pip install transformers"
      ],
      "execution_count": 0,
      "outputs": []
    },
    {
      "cell_type": "code",
      "metadata": {
        "id": "-xkm97Y4cuJx",
        "colab_type": "code",
        "colab": {}
      },
      "source": [
        "import torch\n",
        "from transformers import BertTokenizer\n",
        "from IPython.display import clear_output\n",
        "import numpy as np\n",
        "import pandas as pd\n",
        "import os"
      ],
      "execution_count": 0,
      "outputs": []
    },
    {
      "cell_type": "code",
      "metadata": {
        "id": "Z6AD9VrqcuhW",
        "colab_type": "code",
        "colab": {}
      },
      "source": [
        "from pydrive.auth import GoogleAuth\n",
        "from pydrive.drive import GoogleDrive \n",
        "from google.colab import auth \n",
        "from oauth2client.client import GoogleCredentials\n",
        "\n",
        "auth.authenticate_user()\n",
        "gauth = GoogleAuth()\n",
        "gauth.credentials = GoogleCredentials.get_application_default()\n",
        "drive = GoogleDrive(gauth)\n",
        "file_id = '1Nf8_tQJ98foP3ZHeB1E10DojaS5xOxrB'\n",
        "downloaded = drive.CreateFile({'id': file_id})\n",
        "downloaded.GetContentFile('BERT_data.rar')"
      ],
      "execution_count": 0,
      "outputs": []
    },
    {
      "cell_type": "code",
      "metadata": {
        "id": "GR-jSg9R2Tvd",
        "colab_type": "code",
        "colab": {}
      },
      "source": [
        "from pydrive.auth import GoogleAuth\n",
        "from pydrive.drive import GoogleDrive \n",
        "from google.colab import auth \n",
        "from oauth2client.client import GoogleCredentials\n",
        "\n",
        "auth.authenticate_user()\n",
        "gauth = GoogleAuth()\n",
        "gauth.credentials = GoogleCredentials.get_application_default()\n",
        "drive = GoogleDrive(gauth)\n",
        "file_id = '1IT6bGrSSbZrzObpq_sTJJSZBEF80U2MR'\n",
        "downloaded = drive.CreateFile({'id': file_id})\n",
        "downloaded.GetContentFile('FOMC.rar')\n",
        "file_id = '1XYhUK8vxqpboCG4l1Zqiu60iwF_whNns'\n",
        "downloaded = drive.CreateFile({'id': file_id})\n",
        "downloaded.GetContentFile('model_6.pkl')"
      ],
      "execution_count": 0,
      "outputs": []
    },
    {
      "cell_type": "code",
      "metadata": {
        "id": "nwD-MFKhdGkN",
        "colab_type": "code",
        "colab": {}
      },
      "source": [
        "import rarfile\n",
        "\n",
        "rf = rarfile.RarFile('FOMC.rar')        \n",
        "rf.extractall()               \n",
        "rf.close()"
      ],
      "execution_count": 0,
      "outputs": []
    },
    {
      "cell_type": "code",
      "metadata": {
        "id": "CoU8NbpEdPwf",
        "colab_type": "code",
        "colab": {}
      },
      "source": [
        "BERT_data_positive = pd.read_csv('BERT_data_positive.csv')\n",
        "BERT_data_negative = pd.read_csv('BERT_data_negative.csv')\n",
        "BERT_data_neutral = pd.read_csv('BERT_data_neutral.csv')\n",
        "BERT_data_unk = pd.read_csv('BERT_data_unk.csv')"
      ],
      "execution_count": 0,
      "outputs": []
    },
    {
      "cell_type": "code",
      "metadata": {
        "id": "SAOxXlKldjI8",
        "colab_type": "code",
        "outputId": "a4b23376-4ac1-4fa1-fa61-191c30b46402",
        "colab": {
          "base_uri": "https://localhost:8080/",
          "height": 35
        }
      },
      "source": [
        "train_data = pd.concat([BERT_data_positive,  BERT_data_negative, BERT_data_neutral])\n",
        "print(f'shape : {train_data.shape}')\n",
        "display()"
      ],
      "execution_count": 0,
      "outputs": [
        {
          "output_type": "stream",
          "text": [
            "shape : (20321, 2)\n"
          ],
          "name": "stdout"
        }
      ]
    },
    {
      "cell_type": "code",
      "metadata": {
        "id": "TIIMmkClaRBA",
        "colab_type": "code",
        "outputId": "52b9cc16-1b54-403e-e2dc-9f741d69c48f",
        "colab": {
          "base_uri": "https://localhost:8080/",
          "height": 35
        }
      },
      "source": [
        "test_data = BERT_data_unk\n",
        "print(f'test shape : {test_data.shape}')"
      ],
      "execution_count": 0,
      "outputs": [
        {
          "output_type": "stream",
          "text": [
            "test shape : (2122, 2)\n"
          ],
          "name": "stdout"
        }
      ]
    },
    {
      "cell_type": "code",
      "metadata": {
        "id": "NfMA1HFNdp7N",
        "colab_type": "code",
        "outputId": "7dad26e8-4a9a-4ce6-9352-c7f590e31561",
        "colab": {
          "base_uri": "https://localhost:8080/",
          "height": 87
        }
      },
      "source": [
        "train_data['labels'].value_counts()"
      ],
      "execution_count": 0,
      "outputs": [
        {
          "output_type": "execute_result",
          "data": {
            "text/plain": [
              "2    10579\n",
              "1     6054\n",
              "0     3688\n",
              "Name: labels, dtype: int64"
            ]
          },
          "metadata": {
            "tags": []
          },
          "execution_count": 7
        }
      ]
    },
    {
      "cell_type": "code",
      "metadata": {
        "id": "Z1tGyhoTwFnN",
        "colab_type": "code",
        "colab": {}
      },
      "source": [
        "from sklearn.model_selection import train_test_split\n",
        "train, val, train_label, val_label = train_test_split(train_data['sentent'], train_data['labels'], test_size = 0.2, shuffle = True, random_state = 10)\n",
        "train_set = pd.concat([train,train_label],axis=1)\n",
        "val_set = pd.concat([val,val_label],axis=1)\n",
        "del train, val, train_label, val_label"
      ],
      "execution_count": 0,
      "outputs": []
    },
    {
      "cell_type": "code",
      "metadata": {
        "id": "EaKsjzI7xSTq",
        "colab_type": "code",
        "colab": {}
      },
      "source": [
        "PRETRAINED_MODEL_NAME =  'bert-base-cased'\n",
        "tokenizer = BertTokenizer.from_pretrained(PRETRAINED_MODEL_NAME)\n",
        "clear_output()"
      ],
      "execution_count": 0,
      "outputs": []
    },
    {
      "cell_type": "code",
      "metadata": {
        "id": "Xq0Mm-wj4cNV",
        "colab_type": "code",
        "colab": {}
      },
      "source": [
        "train_set['length'] = train_set['sentent'].apply(lambda x : len(tokenizer.tokenize(x)))\n",
        "train_set = train_set[train_set['length'] < 512]\n",
        "train_set = train_set.drop(['length'], axis = 1)\n",
        "val_set['length'] = val_set['sentent'].apply(lambda x : len(tokenizer.tokenize(x)))\n",
        "val_set = val_set[val_set['length'] < 512]\n",
        "val_set = val_set.drop(['length'], axis = 1)"
      ],
      "execution_count": 0,
      "outputs": []
    },
    {
      "cell_type": "code",
      "metadata": {
        "id": "yn5AAXJGyOvr",
        "colab_type": "code",
        "colab": {}
      },
      "source": [
        "from torch.utils.data import Dataset\n",
        "\n",
        "class SentimentForFOMC(Dataset):\n",
        "    def __init__(self, data, tokenizer):\n",
        "        self.data = data\n",
        "        self.tokenizer = tokenizer\n",
        "     \n",
        "        \n",
        "    def __getitem__ (self, idx):\n",
        "        cont = '[CLS]' + self.data['sentent'].iloc[idx]\n",
        "        label = self.data['labels'].iloc[idx]\n",
        "        cont = self.tokenizer.tokenize(cont)\n",
        "        cont = self.tokenizer.convert_tokens_to_ids(cont)\n",
        "        cont = torch.tensor(cont)\n",
        "        label = torch.tensor(label)\n",
        "        \n",
        "        return (cont, label)\n",
        "    def __len__(self):\n",
        "        return len(self.data)"
      ],
      "execution_count": 0,
      "outputs": []
    },
    {
      "cell_type": "code",
      "metadata": {
        "id": "ivNxLTlAy3u-",
        "colab_type": "code",
        "colab": {}
      },
      "source": [
        "from torch.nn.utils.rnn import pad_sequence\n",
        "\n",
        "def create_minibatch(samples):\n",
        "    \n",
        "    tokens = [s[0] for s in samples]\n",
        "    tokens = pad_sequence(tokens, batch_first=True)\n",
        "    \n",
        "    labels = torch.stack([l[1] for l in samples])\n",
        "    masked = torch.zeros(tokens.shape)\n",
        "    masked = masked.masked_fill(tokens != 0, 1)\n",
        "  \n",
        "    return tokens, masked, labels"
      ],
      "execution_count": 0,
      "outputs": []
    },
    {
      "cell_type": "code",
      "metadata": {
        "id": "iddEQn6_y8Cx",
        "colab_type": "code",
        "outputId": "183b087f-f500-4e8c-c2f4-e02a13949364",
        "colab": {
          "base_uri": "https://localhost:8080/",
          "height": 711,
          "referenced_widgets": [
            "c3a525c15d124a37b36698243f1962cc",
            "f388bcb5296a48b2aae18be695206daa",
            "3651efbbbef0443aa86996554c3d8c79",
            "71e2db6dd0f3431ba60cdfd81432c727",
            "366f8012b5954320a548676545758a7c",
            "b401c61ec086466fb5fcffbeb05b4976",
            "c856d225d58c497589424a0602940605",
            "f5ee461eb64d4044b6245531a6147df3",
            "0260fe9cabd74d2da126c4b0c596abeb",
            "763bc72ac3d147c7b153a404bfa43043",
            "083371fa5a9c48508142787afa9d50d8",
            "40035ec64cd146a19dbb24b114c7ada0",
            "c9b71c416d954d7ea300512174db1616",
            "9a31f30fe4544a9c9d49deed6ff60f48",
            "c0a930f34f95491ca7270f41525952a2",
            "e3d264b671c345198c6e49bda933e7f9"
          ]
        }
      },
      "source": [
        "from transformers import BertForSequenceClassification\n",
        "from torch.utils.data import DataLoader\n",
        "import time\n",
        "\n",
        "use_gpu = torch.cuda.is_available()\n",
        "\n",
        "model = BertForSequenceClassification.from_pretrained(PRETRAINED_MODEL_NAME, num_labels = 3)\n",
        "clear_output()\n",
        "\n",
        "train_dataset = SentimentForFOMC(train_set, tokenizer)\n",
        "train_loader = DataLoader(train_dataset, batch_size = 2, shuffle=True, collate_fn = create_minibatch)\n",
        "val_dataset = SentimentForFOMC(val_set, tokenizer)\n",
        "val_loader = DataLoader(val_dataset, batch_size = 2, shuffle = False, collate_fn=  create_minibatch)\n",
        "\n",
        "if use_gpu:\n",
        "    model.cuda()\n",
        "\n",
        "start = time.time()\n",
        "\n",
        "optimizer = torch.optim.Adam(model.parameters(), lr=0.00001)\n",
        "loss_fn = torch.nn.CrossEntropyLoss()\n",
        "\n",
        "epochs = 10\n",
        "for epoch in range(epochs):\n",
        "    model.train()\n",
        "    train_loss = []\n",
        "    correct = 0\n",
        "    total = 0\n",
        "    for i, (tok, mas, lb) in enumerate(train_loader):\n",
        "        if use_gpu:\n",
        "            tok = tok.cuda()\n",
        "            mas = mas.cuda()\n",
        "            lb = lb.cuda()\n",
        "        batch_size = tok.shape[0]    \n",
        "        optimizer.zero_grad()\n",
        "        outputs = model(input_ids = tok, attention_mask = mas)        \n",
        "        ttt = tok\n",
        "        mmm = mas\n",
        "        #logits = outputs[0]\n",
        "        _, pred = torch.max(outputs[0], 1)\n",
        "        loss = loss_fn(outputs[0],lb)\n",
        "        loss.backward()\n",
        "        optimizer.step()\n",
        "        correct += (pred == lb).sum().item()\n",
        "        total += lb.shape[0]\n",
        "        train_loss.append(loss.item())\n",
        "    acc = correct/total \n",
        "    \n",
        "    print(f'train [epoch{epoch+1:2d}], acc = {acc:.3f}, loss = {np.mean(train_loss)}')\n",
        "\n",
        "    model.eval()\n",
        "    with torch.no_grad():\n",
        "        train_loss = []\n",
        "        correct = 0\n",
        "        total = 0\n",
        "        for i, (tok, mas, lb) in enumerate(val_loader):\n",
        "            if use_gpu:\n",
        "                tok = tok.cuda()\n",
        "                mas = mas.cuda()\n",
        "                lb = lb.cuda()   \n",
        "            batch_size = tok.shape[0]        \n",
        "            outputs = model(input_ids = tok, attention_mask = mas)\n",
        "           # logits = outputs[0]     \n",
        "            _, pred = torch.max(outputs[0], 1)\n",
        "            loss = loss_fn(outputs[0],lb)\n",
        "            train_loss.append(loss.item())\n",
        "            correct += (pred == lb).sum().item()\n",
        "            total += lb.shape[0]\n",
        "        acc = correct/total    \n",
        "        print(f'valid [epoch{epoch+1:2d}], acc = {acc:.3f}, loss = {np.mean(train_loss)}')   \n",
        "    if acc > 0.9:\n",
        "      model_path = f'model_{epoch+1}.pkl'\n",
        "      torch.save(model.state_dict(), model_path)\n",
        "      print(f'model_{epoch+1} saved')\n",
        "    print(f'spend {time.time()-start:3.1f}s')"
      ],
      "execution_count": 0,
      "outputs": [
        {
          "output_type": "stream",
          "text": [
            "train [epoch 1], acc = 0.886, loss = 0.2949298414779453\n",
            "valid [epoch 1], acc = 0.965, loss = 0.10146689347379072\n",
            "model_1 saved\n",
            "spend 1138.7s\n",
            "train [epoch 2], acc = 0.987, loss = 0.04814055623762968\n",
            "valid [epoch 2], acc = 0.986, loss = 0.07121654013557548\n",
            "model_2 saved\n",
            "spend 2275.9s\n",
            "train [epoch 3], acc = 0.995, loss = 0.023478268367880473\n",
            "valid [epoch 3], acc = 0.986, loss = 0.07148566617239156\n",
            "model_3 saved\n",
            "spend 3413.2s\n",
            "train [epoch 4], acc = 0.996, loss = 0.017295491465335565\n",
            "valid [epoch 4], acc = 0.989, loss = 0.07040203537578883\n",
            "model_4 saved\n",
            "spend 4549.8s\n",
            "train [epoch 5], acc = 0.997, loss = 0.013319515791637915\n",
            "valid [epoch 5], acc = 0.988, loss = 0.07368416211308812\n",
            "model_5 saved\n",
            "spend 5687.7s\n",
            "train [epoch 6], acc = 0.998, loss = 0.009655367532042807\n",
            "valid [epoch 6], acc = 0.989, loss = 0.06731268763542175\n",
            "model_6 saved\n",
            "spend 6823.3s\n",
            "train [epoch 7], acc = 0.998, loss = 0.012289948830373456\n",
            "valid [epoch 7], acc = 0.989, loss = 0.06810205704596856\n",
            "model_7 saved\n",
            "spend 7960.5s\n",
            "train [epoch 8], acc = 0.998, loss = 0.011301235546091361\n",
            "valid [epoch 8], acc = 0.989, loss = 0.08525281533216819\n",
            "model_8 saved\n",
            "spend 9098.8s\n",
            "train [epoch 9], acc = 0.999, loss = 0.00662234182612995\n",
            "valid [epoch 9], acc = 0.990, loss = 0.08091492768693018\n",
            "model_9 saved\n",
            "spend 10237.5s\n",
            "train [epoch10], acc = 0.999, loss = 0.003703089854267114\n",
            "valid [epoch10], acc = 0.990, loss = 0.07807048044261142\n",
            "model_10 saved\n",
            "spend 11377.0s\n"
          ],
          "name": "stdout"
        }
      ]
    },
    {
      "cell_type": "code",
      "metadata": {
        "id": "SAOP5atwbtLO",
        "colab_type": "code",
        "colab": {}
      },
      "source": [
        "test_dataset = SentimentForFOMC(test_data, tokenizer)\n",
        "test_loader = DataLoader(test_dataset, batch_size = 2, collate_fn=create_minibatch)\n",
        "\n",
        "model.load_state_dict(torch.load('model_6.pkl'))\n",
        "model.cuda()\n",
        "\n",
        "with torch.no_grad():\n",
        "    predict_value = []\n",
        "    for tok, mas, lb in test_loader:\n",
        "        if use_gpu:\n",
        "            tok = tok.cuda()\n",
        "            mas = mas.cuda()\n",
        "            lb = lb.cuda()\n",
        "        outputs = model(input_ids = tok, attention_mask = mas)\n",
        "        \n",
        "        _, pred = torch.max(outputs[0], 1)\n",
        "        predict_value += pred.tolist()\n",
        "\n",
        "test_data['labels'] = predict_value       "
      ],
      "execution_count": 0,
      "outputs": []
    },
    {
      "cell_type": "code",
      "metadata": {
        "id": "fLFywroEcgKK",
        "colab_type": "code",
        "colab": {}
      },
      "source": [
        "from google.colab import files\n",
        "test_data.to_csv('test_data.csv', index = None)\n",
        "files.download('test_data.csv')"
      ],
      "execution_count": 0,
      "outputs": []
    },
    {
      "cell_type": "code",
      "metadata": {
        "id": "94FXxFd77t7m",
        "colab_type": "code",
        "colab": {}
      },
      "source": [
        "files.download('model_6.pkl')"
      ],
      "execution_count": 0,
      "outputs": []
    },
    {
      "cell_type": "code",
      "metadata": {
        "id": "5GLCzVNAc6T9",
        "colab_type": "code",
        "colab": {}
      },
      "source": [
        "import nltk\n",
        "import pandas as pd\n",
        "\n",
        "path = os.listdir('./FOMC')\n",
        "path.sort()\n",
        "path.pop()\n",
        "path.pop(-1)\n",
        "def load_data(date,repeat = True):\n",
        "    with open('./FOMC/' + date, 'r', encoding = 'utf8') as cor:\n",
        "        text = ''\n",
        "        for i in cor:\n",
        "            text += i\n",
        "        if repeat:    \n",
        "            repeat_word = {'Federal Open Market Committee':'FOMC','gross domestic product':'gdp'} \n",
        "            for i in repeat_word:\n",
        "                text = text.replace(i, repeat_word[i])    \n",
        "        text = nltk.sent_tokenize(text)  \n",
        "    return text        \n",
        "documents = []\n",
        "for d in path:\n",
        "    documents += load_data(d, repeat = False)[1:]\n"
      ],
      "execution_count": 0,
      "outputs": []
    },
    {
      "cell_type": "code",
      "metadata": {
        "id": "RhO99mEH3ilq",
        "colab_type": "code",
        "outputId": "dbea7cdd-af70-43dd-a714-abbd783fa737",
        "colab": {
          "base_uri": "https://localhost:8080/",
          "height": 202
        }
      },
      "source": [
        "test_data = pd.DataFrame()\n",
        "test_data['sentent'] = documents\n",
        "test_data['labels'] = 0\n"
      ],
      "execution_count": 0,
      "outputs": [
        {
          "output_type": "execute_result",
          "data": {
            "text/html": [
              "<div>\n",
              "<style scoped>\n",
              "    .dataframe tbody tr th:only-of-type {\n",
              "        vertical-align: middle;\n",
              "    }\n",
              "\n",
              "    .dataframe tbody tr th {\n",
              "        vertical-align: top;\n",
              "    }\n",
              "\n",
              "    .dataframe thead th {\n",
              "        text-align: right;\n",
              "    }\n",
              "</style>\n",
              "<table border=\"1\" class=\"dataframe\">\n",
              "  <thead>\n",
              "    <tr style=\"text-align: right;\">\n",
              "      <th></th>\n",
              "      <th>sentent</th>\n",
              "      <th>labels</th>\n",
              "    </tr>\n",
              "  </thead>\n",
              "  <tbody>\n",
              "    <tr>\n",
              "      <th>0</th>\n",
              "      <td>PRESENT:   Mr. Greenspan, Chairman\\n       Mr....</td>\n",
              "      <td>0</td>\n",
              "    </tr>\n",
              "    <tr>\n",
              "      <th>1</th>\n",
              "      <td>Attended Wednesday session only.</td>\n",
              "      <td>0</td>\n",
              "    </tr>\n",
              "    <tr>\n",
              "      <th>2</th>\n",
              "      <td>2.</td>\n",
              "      <td>0</td>\n",
              "    </tr>\n",
              "    <tr>\n",
              "      <th>3</th>\n",
              "      <td>Attended Tuesday session only.</td>\n",
              "      <td>0</td>\n",
              "    </tr>\n",
              "    <tr>\n",
              "      <th>4</th>\n",
              "      <td>3.</td>\n",
              "      <td>0</td>\n",
              "    </tr>\n",
              "  </tbody>\n",
              "</table>\n",
              "</div>"
            ],
            "text/plain": [
              "                                             sentent  labels\n",
              "0  PRESENT:   Mr. Greenspan, Chairman\\n       Mr....       0\n",
              "1                   Attended Wednesday session only.       0\n",
              "2                                                 2.       0\n",
              "3                     Attended Tuesday session only.       0\n",
              "4                                                 3.       0"
            ]
          },
          "metadata": {
            "tags": []
          },
          "execution_count": 15
        }
      ]
    },
    {
      "cell_type": "code",
      "metadata": {
        "id": "5Z4M5PGD80Wn",
        "colab_type": "code",
        "colab": {}
      },
      "source": [
        ""
      ],
      "execution_count": 0,
      "outputs": []
    }
  ]
}